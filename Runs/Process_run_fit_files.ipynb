{
 "cells": [
  {
   "cell_type": "code",
   "execution_count": 13,
   "metadata": {
    "collapsed": true
   },
   "outputs": [],
   "source": [
    "# NOTE: has to be done in python 2.7 as python 3 currently not supported by the fitparse package\n",
    "import numpy as np\n",
    "import matplotlib.pyplot as plt\n",
    "import pandas as pd\n",
    "import fitparse\n",
    "%matplotlib inline"
   ]
  },
  {
   "cell_type": "code",
   "execution_count": 14,
   "metadata": {
    "collapsed": true
   },
   "outputs": [],
   "source": [
    "filename = 'run-20190309T074904.fit'\n",
    "fitfile = fitparse.FitFile(filename)"
   ]
  },
  {
   "cell_type": "code",
   "execution_count": 15,
   "metadata": {},
   "outputs": [
    {
     "name": "stdout",
     "output_type": "stream",
     "text": [
      "   altitude  calories  distance  enhanced_altitude  enhanced_speed  \\\n",
      "0     168.6       0.0       0.0              168.6            0.00   \n",
      "1     168.6       0.0       0.0              168.6            0.03   \n",
      "\n",
      "   heart_rate  position_lat  position_long  speed           timestamp  \n",
      "0        91.0   640072784.0    -21617298.0   0.00 2019-03-09 07:49:03  \n",
      "1        91.0   640072808.0    -21617274.0   0.03 2019-03-09 07:49:04  \n",
      "<class 'pandas.core.frame.DataFrame'>\n",
      "RangeIndex: 2023 entries, 0 to 2022\n",
      "Data columns (total 10 columns):\n",
      "altitude             2022 non-null float64\n",
      "calories             2022 non-null float64\n",
      "distance             2022 non-null float64\n",
      "enhanced_altitude    2022 non-null float64\n",
      "enhanced_speed       2022 non-null float64\n",
      "heart_rate           2021 non-null float64\n",
      "position_lat         2022 non-null float64\n",
      "position_long        2022 non-null float64\n",
      "speed                2022 non-null float64\n",
      "timestamp            2023 non-null datetime64[ns]\n",
      "dtypes: datetime64[ns](1), float64(9)\n",
      "memory usage: 158.1 KB\n",
      "None\n"
     ]
    }
   ],
   "source": [
    "record_df_list = [pd.concat([pd.DataFrame([record_data.value], columns=[record_data.name]) for record_data in record], axis=1) \\\n",
    "    for record in fitfile.get_messages('record')]\n",
    "df = pd.concat(record_df_list, ignore_index=True)\n",
    "print df.head(2)\n",
    "print df.info()"
   ]
  },
  {
   "cell_type": "code",
   "execution_count": 16,
   "metadata": {
    "collapsed": true
   },
   "outputs": [],
   "source": [
    "df = df.dropna()\n",
    "df = df.reset_index(drop=True)  # Drop the indices from the rows that were deleted (otherwise holds blank row)"
   ]
  },
  {
   "cell_type": "code",
   "execution_count": 17,
   "metadata": {
    "collapsed": true
   },
   "outputs": [],
   "source": [
    "tstamp_intervals = np.diff(df.timestamp)"
   ]
  },
  {
   "cell_type": "code",
   "execution_count": 18,
   "metadata": {},
   "outputs": [
    {
     "data": {
      "image/png": "[encoded data removed]",
      "text/plain": [
       "<matplotlib.figure.Figure at 0xb619ac8>"
      ]
     },
     "metadata": {},
     "output_type": "display_data"
    }
   ],
   "source": [
    "plt.plot(tstamp_intervals)\n",
    "plt.ylabel('Duration of time-step interval (ns)')\n",
    "plt.xlabel('Time-step number')\n",
    "plt.show()"
   ]
  },
  {
   "cell_type": "code",
   "execution_count": 19,
   "metadata": {},
   "outputs": [
    {
     "name": "stdout",
     "output_type": "stream",
     "text": [
      "<class 'pandas.core.frame.DataFrame'>\n",
      "DatetimeIndex: 2021 entries, 2019-03-09 07:49:03 to 2019-03-09 08:22:43\n",
      "Data columns (total 9 columns):\n",
      "altitude             2021 non-null float64\n",
      "calories             2021 non-null float64\n",
      "distance             2021 non-null float64\n",
      "enhanced_altitude    2021 non-null float64\n",
      "enhanced_speed       2021 non-null float64\n",
      "heart_rate           2021 non-null float64\n",
      "position_lat         2021 non-null float64\n",
      "position_long        2021 non-null float64\n",
      "speed                2021 non-null float64\n",
      "dtypes: float64(9)\n",
      "memory usage: 157.9 KB\n"
     ]
    }
   ],
   "source": [
    "df.set_index('timestamp', inplace=True)  # Set the timestamp as the DataFrame index\n",
    "df.info()"
   ]
  },
  {
   "cell_type": "code",
   "execution_count": 20,
   "metadata": {},
   "outputs": [
    {
     "name": "stdout",
     "output_type": "stream",
     "text": [
      "True\n",
      "True\n"
     ]
    }
   ],
   "source": [
    "# Check if \"enhanced speed/altitude\" are the same as \"speed/altitude\"\n",
    "print df.enhanced_altitude.equals(df.altitude)\n",
    "print df.enhanced_speed.equals(df.speed)"
   ]
  },
  {
   "cell_type": "code",
   "execution_count": 21,
   "metadata": {},
   "outputs": [
    {
     "name": "stdout",
     "output_type": "stream",
     "text": [
      "                     altitude  calories  distance  heart_rate  position_lat  \\\n",
      "timestamp                                                                     \n",
      "2019-03-09 07:49:03     168.6       0.0       0.0        91.0   640072784.0   \n",
      "2019-03-09 07:49:04     168.6       0.0       0.0        91.0   640072808.0   \n",
      "2019-03-09 07:49:05     168.6       0.0       0.0        91.0   640072844.0   \n",
      "2019-03-09 07:49:06     168.6       0.0       0.0        92.0   640072892.0   \n",
      "2019-03-09 07:49:07     168.6       0.0       0.0        94.0   640072927.0   \n",
      "\n",
      "                     position_long  speed  \n",
      "timestamp                                  \n",
      "2019-03-09 07:49:03    -21617298.0   0.00  \n",
      "2019-03-09 07:49:04    -21617274.0   0.03  \n",
      "2019-03-09 07:49:05    -21617250.0   0.07  \n",
      "2019-03-09 07:49:06    -21617227.0   0.16  \n",
      "2019-03-09 07:49:07    -21617203.0   0.28  \n"
     ]
    }
   ],
   "source": [
    "# Remove enhanced columns as these are duplicates\n",
    "df.drop(['enhanced_altitude', 'enhanced_speed'], axis=1, inplace=True)\n",
    "print df.head()"
   ]
  },
  {
   "cell_type": "markdown",
   "metadata": {},
   "source": [
    "Longitude and latitude are stored in some strange \"semicircle\" units, which is defined as\n",
    "$$\\frac{\\text{long} \\text{(lat)}}{\\text{degrees}} = \\text{semicircle} \\times \\frac{180}{2^{31}}$$\n",
    "We may as well just replace these columns with values in degrees as these are more intuitive:"
   ]
  },
  {
   "cell_type": "code",
   "execution_count": 22,
   "metadata": {},
   "outputs": [
    {
     "name": "stdout",
     "output_type": "stream",
     "text": [
      "                     position_lat  position_long\n",
      "timestamp                                       \n",
      "2019-03-09 07:49:03     53.650281      -1.811941\n",
      "2019-03-09 07:49:04     53.650283      -1.811939\n",
      "2019-03-09 07:49:05     53.650286      -1.811937\n"
     ]
    }
   ],
   "source": [
    "df['position_lat'] = df['position_lat'] * (180. / 2**31)\n",
    "df['position_long'] = df['position_long'] * (180. / 2**31)\n",
    "print df.loc[:, ['position_lat', 'position_long']].head(3)"
   ]
  },
  {
   "cell_type": "code",
   "execution_count": 23,
   "metadata": {},
   "outputs": [
    {
     "data": {
      "image/png": "[encoded data removed]",
      "text/plain": [
       "<matplotlib.figure.Figure at 0xb4dbcc0>"
      ]
     },
     "metadata": {},
     "output_type": "display_data"
    }
   ],
   "source": [
    "df[['speed', 'heart_rate', 'altitude']].plot(subplots=True)\n",
    "plt.show()"
   ]
  },
  {
   "cell_type": "code",
   "execution_count": 24,
   "metadata": {
    "collapsed": true
   },
   "outputs": [],
   "source": [
    "# Save pickled dataframe to disk (heart rate + calories)\n",
    "prefix = filename.split('.fit')[0]\n",
    "df.to_pickle('./' + prefix + '-dataframe.pkl')"
   ]
  },
  {
   "cell_type": "code",
   "execution_count": null,
   "metadata": {
    "collapsed": true
   },
   "outputs": [],
   "source": []
  }
 ],
 "metadata": {
  "kernelspec": {
   "display_name": "Python 2",
   "language": "python",
   "name": "python2"
  },
  "language_info": {
   "codemirror_mode": {
    "name": "ipython",
    "version": 2
   },
   "file_extension": ".py",
   "mimetype": "text/x-python",
   "name": "python",
   "nbconvert_exporter": "python",
   "pygments_lexer": "ipython2",
   "version": "2.7.13"
  }
 },
 "nbformat": 4,
 "nbformat_minor": 2
}
